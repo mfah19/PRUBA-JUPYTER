{
 "cells": [
  {
   "cell_type": "markdown",
   "id": "39207e49-7a0e-4031-b0a1-733f1c608188",
   "metadata": {},
   "source": [
    "# Mi cuaderno\n",
    "\n"
   ]
  },
  {
   "cell_type": "markdown",
   "id": "ea3d56f8-ccdc-476d-811d-8e97f2ef3608",
   "metadata": {},
   "source": [
    "Este cuaderno contiene una breve introducción sobre los elementos principales que se utilizan para la ciencia de datos utilizando el lenguaje R o Python, así como la creación de celdas Markdown y de código. Es parte del curso de introducción a la Ciencia de Datos."
   ]
  },
  {
   "cell_type": "markdown",
   "id": "1583dbef-eb98-4e3b-bab3-666b62982a29",
   "metadata": {},
   "source": [
    "### Lenguajes utilizados en la Ciencia de Datos:\n",
    "1. Python\n",
    "2. R\n",
    "3. SQL\n",
    "4. Java\n",
    "5. Scala\n"
   ]
  },
  {
   "cell_type": "markdown",
   "id": "b47f0c77-5cc0-4b07-82c8-16821ef23107",
   "metadata": {},
   "source": [
    "### Bibliotecas de Ciencia de Datos:\n",
    "- NumPy\n",
    "- Pandas\n",
    "- Matplotlib\n",
    "- Seaborn\n",
    "- Scikit-learn\n"
   ]
  },
  {
   "cell_type": "markdown",
   "id": "3bf55a7d-8804-40dd-a0dd-d0b5dbdeb3c0",
   "metadata": {},
   "source": [
    "| Herramienta       | Tipo               |\n",
    "|-------------------|--------------------|\n",
    "| RStudio           | IDE                |\n",
    "| Jupyter Notebook  | IDE / Visualización |\n",
    "| Apache Spark      | Procesamiento Big Data |\n",
    "| TensorFlow        | Machine Learning    |\n"
   ]
  },
  {
   "cell_type": "markdown",
   "id": "50135dea-cfa7-42f3-97bf-25bd90ca9eea",
   "metadata": {},
   "source": [
    "### Ejemplos de expresiones aritméticas:\n",
 
   ]
  },
  {
   "cell_type": "markdown",
   "id": "dc0d150d-c2d7-4740-864c-41e3ab3b0238",
   "metadata": {},
   "source": [
    "# Suma y multiplicación\n",
    "a = 4\n",
    "b = 6\n",
    "suma = a + b\n",
    "producto = a * b\n",
    "print(\"Suma:\", suma)\n",
    "print(\"Producto:\", producto)\n"
   ]
  },
  {
   "cell_type": "markdown",
   "id": "46d8283c-af80-498b-bcd5-a66758a384df",
   "metadata": {},
   "source": [
    "# Conversión de minutos a horas\n",
    "minutos = 150\n",
    "horas = minutos / 60\n",
    "print(\"Horas:\", horas)\n"
   ]
  },
  {
   "cell_type": "markdown",
   "id": "232f4cea-4391-4c53-be07-909856f2b91c",
   "metadata": {},
   "source": [
    "objetivos = [\"Aprender los conceptos básicos de Ciencia de Datos\",\n",
    "             \"Familiarizarse con herramientas comunes\",\n",
    "             \"Practicar expresiones aritméticas\",\n",
    "             \"Compartir un cuaderno en GitHub\"]\n",
    "for i, obj in enumerate(objetivos, start=1):\n",
    "    print(f\"{i}. {obj}\")\n"
   ]
  },
  {
   "cell_type": "markdown",
   "id": "30bea422-ee36-44e6-94de-6ad36d31d1fe",
   "metadata": {},
   "source": [
    "**Autor:** Maria Fernanda Arango Hernandez\n"
   ]
  },
  {
   "cell_type": "code",
   "execution_count": null,
   "id": "72d2561d-ff3a-4d61-ba7d-edd103be0cc7",
   "metadata": {},
   "outputs": [],
   "source": []
  }
 ],
 "metadata": {
  "kernelspec": {
   "display_name": "Python 3 (ipykernel)",
   "language": "python",
   "name": "python3"
  },
  "language_info": {
   "codemirror_mode": {
    "name": "ipython",
    "version": 3
   },
   "file_extension": ".py",
   "mimetype": "text/x-python",
   "name": "python",
   "nbconvert_exporter": "python",
   "pygments_lexer": "ipython3",
   "version": "3.12.8"
  }
 },
 "nbformat": 4,
 "nbformat_minor": 5
}
