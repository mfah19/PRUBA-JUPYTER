{
 "cells": [
  {
   "cell_type": "markdown",
   "id": "39207e49-7a0e-4031-b0a1-733f1c608188",
   "metadata": {},
   "source": [
    "# My notebook\n"
   ]
  },
  {
   "cell_type": "markdown",
   "id": "ea3d56f8-ccdc-476d-811d-8e97f2ef3608",
   "metadata": {},
   "source": [
    "This booklet contains a brief introduction to the main elements used in data science with the R or Python languages, as well as the creation of Markdown cells and code. It is part of the introductory course on data science."
   ]
  },
  {
   "cell_type": "markdown",
   "id": "1583dbef-eb98-4e3b-bab3-666b62982a29",
   "metadata": {},
   "source": [
    "### Languages used in Data Science:\n",
    "1. Python\n",
    "2. R\n",
    "3. SQL\n",
    "4. Java\n",
    "5. Scala\n"
   ]
  },
  {
   "cell_type": "markdown",
   "id": "b47f0c77-5cc0-4b07-82c8-16821ef23107",
   "metadata": {},
   "source": [
    "### Data Science Libraries:\n",
    "- NumPy\n",
    "- Pandas\n",
    "- Matplotlib\n",
    "- Seaborn\n",
    "- Scikit-learn\n"
   ]
  },
  {
   "cell_type": "markdown",
   "id": "3bf55a7d-8804-40dd-a0dd-d0b5dbdeb3c0",
   "metadata": {},
   "source": [
    "| Tools             | Type              |\n",
    "|-------------------|--------------------|\n",
    "| RStudio           | IDE                |\n",
    "| Jupyter Notebook  | IDE / Visualización |\n",
    "| Apache Spark      | Procesamiento Big Data |\n",
    "| TensorFlow        | Machine Learning    |\n"
   ]
  },
  {
   "cell_type": "markdown",
   "id": "50135dea-cfa7-42f3-97bf-25bd90ca9eea",
   "metadata": {},
   "source": [
    "### Some examples of arithmetic expressions:\n",
    "\n"
   ]
  },
  {
   "cell_type": "code",
   "execution_count": 2,
   "id": "f5ace17f-3549-41f6-a9d1-e9b034c3f015",
   "metadata": {},
   "outputs": [
    {
     "data": {
      "text/plain": [
       "8"
      ]
     },
     "execution_count": 2,
     "metadata": {},
     "output_type": "execute_result"
    }
   ],
   "source": [
    "3 + 5"
   ]
  },
  {
   "cell_type": "code",
   "execution_count": 3,
   "id": "7fabb081-b42f-4a8e-8c3a-445dce589b38",
   "metadata": {},
   "outputs": [
    {
     "data": {
      "text/plain": [
       "5.0"
      ]
     },
     "execution_count": 3,
     "metadata": {},
     "output_type": "execute_result"
    }
   ],
   "source": [
    " 10 / 2"
   ]
  },
  {
   "cell_type": "code",
   "execution_count": 4,
   "id": "83821f3c-3321-4a87-8248-bd9c76d377e5",
   "metadata": {},
   "outputs": [
    {
     "data": {
      "text/plain": [
       "56"
      ]
     },
     "execution_count": 4,
     "metadata": {},
     "output_type": "execute_result"
    }
   ],
   "source": [
    "7 * 8"
   ]
  },
  {
   "cell_type": "code",
   "execution_count": 5,
   "id": "a3f4ee95-458d-4e0a-b1e0-2a958c41543e",
   "metadata": {},
   "outputs": [
    {
     "data": {
      "text/plain": [
       "8"
      ]
     },
     "execution_count": 5,
     "metadata": {},
     "output_type": "execute_result"
    }
   ],
   "source": [
    "12 - 4"
   ]
  },
  {
   "cell_type": "markdown",
   "id": "dc0d150d-c2d7-4740-864c-41e3ab3b0238",
   "metadata": {},
   "source": [
    "# Addition and multiplication"
   ]
  },
  {
   "cell_type": "code",
   "execution_count": 6,
   "id": "985eada8-cb37-43c1-875f-0d8f57ec9146",
   "metadata": {},
   "outputs": [
    {
     "name": "stdout",
     "output_type": "stream",
     "text": [
      "Suma: 10\n",
      "Producto: 24\n"
     ]
    }
   ],
   "source": [
    "a = 4\n",
    "b = 6\n",
    "suma = a + b\n",
    "producto = a * b\n",
    "print(\"Suma:\", suma)\n",
    "print(\"Producto:\", producto)"
   ]
  },
  {
   "cell_type": "markdown",
   "id": "46d8283c-af80-498b-bcd5-a66758a384df",
   "metadata": {},
   "source": [
    "# Conversion from minutes to hours"
   ]
  },
  {
   "cell_type": "code",
   "execution_count": 7,
   "id": "8f249aac-c9ba-4456-b0a2-4ea5db0b7ef9",
   "metadata": {},
   "outputs": [
    {
     "name": "stdout",
     "output_type": "stream",
     "text": [
      "Horas: 2.5\n"
     ]
    }
   ],
   "source": [
    "minutos = 150\n",
    "horas = minutos / 60\n",
    "print(\"Horas:\", horas)"
   ]
  },
  {
   "cell_type": "markdown",
   "id": "232f4cea-4391-4c53-be07-909856f2b91c",
   "metadata": {},
   "source": [
    "# Goals"
   ]
  },
  {
   "cell_type": "code",
   "execution_count": 11,
   "id": "985b4f2e-844a-4a17-8799-25d7992ee80b",
   "metadata": {},
   "outputs": [
    {
     "name": "stdout",
     "output_type": "stream",
     "text": [
      "1. Learning the basics of Data Science\n",
      "2. Getting familiar with common tools\n",
      "3. Practising arithmetic expressions\n",
      "4. Sharing a notebook on GitHub\n"
     ]
    }
   ],
   "source": [
    "Goals = [\n",
    "    \"Learning the basics of Data Science\",\n",
    "    \"Getting familiar with common tools\",\n",
    "    \"Practising arithmetic expressions\",\n",
    "    \"Sharing a notebook on GitHub\"\n",
    "]\n",
    "\n",
    "for i, Obj in enumerate(Goals, start=1):\n",
    "    print(f\"{i}. {Obj}\")\n"
   ]
  },
  {
   "cell_type": "markdown",
   "id": "30bea422-ee36-44e6-94de-6ad36d31d1fe",
   "metadata": {},
   "source": [
    "**Author:** Maria Fernanda Arango Hernandez\n"
   ]
  }
 ],
 "metadata": {
  "kernelspec": {
   "display_name": "Python 3 (ipykernel)",
   "language": "python",
   "name": "python3"
  },
  "language_info": {
   "codemirror_mode": {
    "name": "ipython",
    "version": 3
   },
   "file_extension": ".py",
   "mimetype": "text/x-python",
   "name": "python",
   "nbconvert_exporter": "python",
   "pygments_lexer": "ipython3",
   "version": "3.12.8"
  }
 },
 "nbformat": 4,
 "nbformat_minor": 5
}
